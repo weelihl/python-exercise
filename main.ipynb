{
 "cells": [
  {
   "cell_type": "markdown",
   "id": "84a4e1b8",
   "metadata": {},
   "source": [
    "# Python Brief Introduction"
   ]
  },
  {
   "cell_type": "code",
   "execution_count": null,
   "id": "b5498eea",
   "metadata": {},
   "outputs": [],
   "source": [
    "# enable interactive mode on the matplotlib\n",
    "%matplotlib widget"
   ]
  },
  {
   "cell_type": "markdown",
   "id": "32a6aa5d",
   "metadata": {},
   "source": [
    "## Print value"
   ]
  },
  {
   "cell_type": "code",
   "execution_count": null,
   "id": "da1859cc",
   "metadata": {},
   "outputs": [],
   "source": [
    "my_name = 'World' # replace your name here\n",
    "print(f\"Hello, {my_name}!\")"
   ]
  },
  {
   "cell_type": "markdown",
   "id": "023f0790",
   "metadata": {},
   "source": [
    "## Basic operations\n",
    "Mathematic operations"
   ]
  },
  {
   "cell_type": "code",
   "execution_count": null,
   "id": "2a03373f",
   "metadata": {},
   "outputs": [],
   "source": [
    "x = 10.0 # change the value here\n",
    "y = 20.0\n",
    "print(x + y)"
   ]
  },
  {
   "cell_type": "code",
   "execution_count": null,
   "id": "d9c3db7d",
   "metadata": {},
   "outputs": [],
   "source": [
    "first_name = \"John\" #change the name here\n",
    "last_name = \"Doe\"\n",
    "full_name = first_name + \" \" + last_name\n",
    "print(full_name)"
   ]
  },
  {
   "cell_type": "markdown",
   "id": "2d5028d7",
   "metadata": {},
   "source": [
    "## Plotting a graph\n",
    "Plot y as the squared of x"
   ]
  },
  {
   "cell_type": "code",
   "execution_count": null,
   "id": "8e289d89",
   "metadata": {},
   "outputs": [],
   "source": [
    "import matplotlib.pyplot as plt\n",
    "plt.rcParams['figure.figsize'] = (8.0, 6.0)\n",
    "\n",
    "x = [1, 2, 3, 4, 5]\n",
    "y = [1, 4, 9, 16, 25] \n",
    "plt.plot(x, y)\n",
    "plt.xlabel(\"x\")\n",
    "plt.ylabel(\"y\")"
   ]
  },
  {
   "cell_type": "markdown",
   "id": "4447f02f",
   "metadata": {},
   "source": [
    "Plot 5 Hz sine wave"
   ]
  },
  {
   "cell_type": "code",
   "execution_count": null,
   "id": "793c32e2",
   "metadata": {},
   "outputs": [],
   "source": [
    "import numpy as np\n",
    "\n",
    "t = np.linspace(0, 1, 100)\n",
    "x = np.sin(2*np.pi*5*t)\n",
    "plt.plot(t, x)\n"
   ]
  },
  {
   "cell_type": "markdown",
   "id": "1b74962c",
   "metadata": {},
   "source": [
    "## Plotting an image"
   ]
  },
  {
   "cell_type": "code",
   "execution_count": null,
   "id": "789177c9",
   "metadata": {},
   "outputs": [],
   "source": [
    "image = plt.imread(\"cat.jpg\")\n",
    "plt.imshow(image)"
   ]
  },
  {
   "cell_type": "markdown",
   "id": "7b065ae4",
   "metadata": {},
   "source": [
    "## Loading Data using Pandas package\n",
    "Melbourne Airport Weather Data in March 2021 (taken from http://www.bom.gov.au/climate/data/)"
   ]
  },
  {
   "cell_type": "code",
   "execution_count": null,
   "id": "68588a24",
   "metadata": {},
   "outputs": [],
   "source": [
    "import pandas as pd\n",
    "data = pd.read_csv(\"weather.csv\")\n",
    "data.head(5) #show weather up to the first 5 days"
   ]
  },
  {
   "cell_type": "code",
   "execution_count": null,
   "id": "d3878ba8",
   "metadata": {},
   "outputs": [],
   "source": [
    "data.plot(\"Date\", \"Minimum temperature (C)\", style=\".-\") # try change the \"Sunshine (hours)\" to \"Minimum temperature (C)\"\n",
    "plt.grid()"
   ]
  },
  {
   "cell_type": "markdown",
   "id": "96a00110",
   "metadata": {},
   "source": [
    "Calculate and Plot the average temperature"
   ]
  },
  {
   "cell_type": "code",
   "execution_count": null,
   "id": "ba1036f1",
   "metadata": {},
   "outputs": [],
   "source": [
    "# calculate the mean temperature\n",
    "data[\"Average temperature (C)\"] = (data[\"Minimum temperature (C)\"] + data[\"Maximum temperature (C)\"])/2\n",
    "data.head(5) #now the table contains a new column: (Average Temperature)"
   ]
  },
  {
   "cell_type": "code",
   "execution_count": null,
   "id": "beb1017f",
   "metadata": {},
   "outputs": [],
   "source": [
    "# plot the average temperature\n",
    "data.plot(\"Date\", \"Average temperature (C)\", style=\".-\") \n",
    "plt.grid()"
   ]
  }
 ],
 "metadata": {
  "kernelspec": {
   "display_name": "Python 3",
   "language": "python",
   "name": "python3"
  },
  "language_info": {
   "codemirror_mode": {
    "name": "ipython",
    "version": 3
   },
   "file_extension": ".py",
   "mimetype": "text/x-python",
   "name": "python",
   "nbconvert_exporter": "python",
   "pygments_lexer": "ipython3",
   "version": "3.8.8"
  }
 },
 "nbformat": 4,
 "nbformat_minor": 5
}
