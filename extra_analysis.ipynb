{
 "cells": [
  {
   "cell_type": "markdown",
   "id": "05a38b2e",
   "metadata": {},
   "source": [
    "# Advanced Data Analysis Exercise"
   ]
  },
  {
   "cell_type": "markdown",
   "id": "b312b1ea",
   "metadata": {},
   "source": [
    "\n",
    "*\"... This dataset contains average counts of bicycle traffic by hour of the day and day of the week. Data is collected from bicycle counters across approximately 16 active transport sites. As more sites come on line in the future these will be added to the dataset...\"* - from [Queensland Government Open Data Portal](https://www.data.qld.gov.au/dataset/average-bicycle-counts-by-day-and-hour/resource/0234d8d0-b1bf-485f-877a-cc7524db4d5a)\n",
    "\n",
    "**Replace \"__\" in the following codes with a proper value**"
   ]
  },
  {
   "cell_type": "markdown",
   "id": "915f18fb",
   "metadata": {},
   "source": [
    "## Load Data"
   ]
  },
  {
   "cell_type": "code",
   "execution_count": null,
   "id": "9b7d830e",
   "metadata": {},
   "outputs": [],
   "source": [
    "import pandas as pd\n",
    "import matplotlib.pyplot as plt\n",
    "\n",
    "data = pd.read_csv('averagebicyclecounts-bydayandhourfromjanuary2020-tojune2020.csv')\n",
    "data"
   ]
  },
  {
   "cell_type": "markdown",
   "id": "8d29f3c1",
   "metadata": {},
   "source": [
    "## Find the busiest day with the most bicycles on the road"
   ]
  },
  {
   "cell_type": "markdown",
   "id": "e536d4ed",
   "metadata": {},
   "source": [
    "### Clean the dataset\n",
    "- Change the table from the wide format to the tall format\n",
    "- Drop and Rename the table columns"
   ]
  },
  {
   "cell_type": "code",
   "execution_count": null,
   "id": "29143f90",
   "metadata": {},
   "outputs": [],
   "source": [
    "# convert from wide to tall table format\n",
    "tall_df = data.melt(id_vars=[\"SITE_ID\", \"DESCRIPTION\", \"YEARS\", \"MONTHS\", \"HOURS\"], \n",
    "                    var_name=\"Days\",\n",
    "                    value_name=\"BicycleCount\")\n",
    "\n",
    "# convert \"Days\" column from string to a categorical variable\n",
    "tall_df[\"Days\"] = pd.Categorical(tall_df[\"Days\"], \n",
    "                                categories=[\"MONDAY\", \"TUESDAY\", \"WEDNESDAY\", \"THURSDAY\", \"FRIDAY\", \"SATURDAY\", \"SUNDAY\"], \n",
    "                                ordered=True)\n",
    "tall_df.head()"
   ]
  },
  {
   "cell_type": "markdown",
   "id": "4451877e",
   "metadata": {},
   "source": [
    "### Examine the average bicycle count on different days of the week"
   ]
  },
  {
   "cell_type": "code",
   "execution_count": null,
   "id": "4be1a026",
   "metadata": {},
   "outputs": [],
   "source": [
    "daily_bicycle_count = tall_df \\\n",
    "    .groupby([\"__\"])[\"__\"] \\\n",
    "    .mean()\n",
    "daily_bicycle_count"
   ]
  },
  {
   "cell_type": "code",
   "execution_count": null,
   "id": "4cb48bf5",
   "metadata": {},
   "outputs": [],
   "source": [
    "average_bicycle_count = daily_bicycle_count.mean()\n",
    "print(f\"On average, there are {average_bicycle_count:.2f} bicycles daily on the road across all the sites.\")\n",
    "\n",
    "busiest_day = daily_bicycle_count.idxmax()\n",
    "print(f\"The busiest day is {busiest_day} (average {daily_bicycle_count[busiest_day]:.2f} bicycles)\")"
   ]
  },
  {
   "cell_type": "code",
   "execution_count": null,
   "id": "36b58074",
   "metadata": {},
   "outputs": [],
   "source": [
    "daily_bicycle_count \\\n",
    "    .reset_index() \\\n",
    "    .plot(\"__\", \"__\", \n",
    "          kind=\"bar\", \n",
    "          style=\".-\",\n",
    "          figsize=(8,6))\n",
    "plt.grid()\n",
    "plt.xlabel(\"Days\")\n",
    "plt.ylabel(\"Bicycle Count\")\n",
    "plt.title(\"Daily Total Bicycle Count\")"
   ]
  },
  {
   "cell_type": "markdown",
   "id": "ed957661",
   "metadata": {},
   "source": [
    "**Observations**:\n",
    "- Everyday, there are 23.07 bicycles on the road across all the sites in Queensland.\n",
    "- Queensland's people tends to ride bicycle more often during weekends.\n",
    "- They also like to ride their bicycles on Tuesday, with 1.3 more bicycles than the daily average.\n"
   ]
  },
  {
   "cell_type": "markdown",
   "id": "35239e62",
   "metadata": {},
   "source": [
    "## Examine the average daily bicycle count per site in Queensland"
   ]
  },
  {
   "cell_type": "code",
   "execution_count": null,
   "id": "ea0eb953",
   "metadata": {},
   "outputs": [],
   "source": [
    "# Group the data by the site and days\n",
    "# Check the average bicycle count by site\n",
    "avg_bicycle_count_per_site = tall_df \\\n",
    "    .groupby([\"__\", \"__\"])[\"__\"] \\\n",
    "    .mean() \\\n",
    "    .reset_index()\n",
    "\n",
    "avg_bicycle_count_per_site"
   ]
  },
  {
   "cell_type": "markdown",
   "id": "33341659",
   "metadata": {},
   "source": [
    "## Find the top 10 busiest site with the highest daily average of bicycle count"
   ]
  },
  {
   "cell_type": "code",
   "execution_count": null,
   "id": "e25b32da",
   "metadata": {},
   "outputs": [],
   "source": [
    "# Find the top 10 site with the most daily average of bicycle count\n",
    "# Replace the \"__\" with a proper variable name\n",
    "\n",
    "top_10_sites = avg_bicycle_count_per_site \\\n",
    "    .groupby(\"__\")[\"__\"] \\\n",
    "    .mean() \\\n",
    "    .sort_values(ascending=False) \\\n",
    "    .head(10) \\\n",
    "    .reset_index()\n",
    "    \n",
    "top_10_sites"
   ]
  },
  {
   "cell_type": "code",
   "execution_count": null,
   "id": "0c914d2a",
   "metadata": {},
   "outputs": [],
   "source": [
    "top_10_sites.plot(\"__\", \"__\", kind=\"bar\")\n",
    "plt.ylabel(\"Bicycle Count\")\n",
    "plt.title(\"Top 10 Sites\")"
   ]
  },
  {
   "cell_type": "markdown",
   "id": "3fb96a67",
   "metadata": {},
   "source": [
    "**Observations**\n",
    "- Park Road, Woolloongabba has the highest daily average of bicycle on the road. The number of bicycles is three times higher than the daily average across all the sites\n",
    "\n",
    "### Food for thoughts\n",
    "Assume that you are a government officer responsible for the road planning, \n",
    "1. Which roads should be constantly monitored to ensure the safety of the cyclists? Or even invested to ensure it can handle a large amount of cyclists?\n",
    "\n",
    "1. Is the results in this analysis sufficient for used in road planning? What can we do better to inform the public and government? "
   ]
  }
 ],
 "metadata": {
  "kernelspec": {
   "display_name": "Python 3",
   "language": "python",
   "name": "python3"
  },
  "language_info": {
   "codemirror_mode": {
    "name": "ipython",
    "version": 3
   },
   "file_extension": ".py",
   "mimetype": "text/x-python",
   "name": "python",
   "nbconvert_exporter": "python",
   "pygments_lexer": "ipython3",
   "version": "3.8.8"
  }
 },
 "nbformat": 4,
 "nbformat_minor": 5
}
