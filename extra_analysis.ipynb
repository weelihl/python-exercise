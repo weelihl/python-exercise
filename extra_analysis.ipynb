{
 "cells": [
  {
   "cell_type": "markdown",
   "id": "8f728086",
   "metadata": {},
   "source": [
    "# Advanced Data Analysis Exercise"
   ]
  },
  {
   "cell_type": "code",
   "execution_count": null,
   "id": "be83d020",
   "metadata": {},
   "outputs": [],
   "source": [
    "import pandas as pd\n",
    "import matplotlib.pyplot as plt"
   ]
  },
  {
   "cell_type": "code",
   "execution_count": null,
   "id": "abdfd55e",
   "metadata": {},
   "outputs": [],
   "source": [
    "data = pd.read_csv('averagebicyclecounts-bydayandhourfromjanuary2020-tojune2020.csv')\n",
    "data"
   ]
  },
  {
   "cell_type": "markdown",
   "id": "00e9cc82",
   "metadata": {},
   "source": [
    "## Examine which day is the busiest day with a lot of bicycle on the road"
   ]
  },
  {
   "cell_type": "code",
   "execution_count": null,
   "id": "57623063",
   "metadata": {},
   "outputs": [],
   "source": [
    "# convert from wide to tall table format\n",
    "tall_df = data.melt(id_vars=[\"SITE_ID\", \"DESCRIPTION\", \"YEARS\", \"MONTHS\", \"HOURS\"], \n",
    "                    var_name=\"Days\",\n",
    "                    value_name=\"BicycleCount\")\n",
    "tall_df.head()"
   ]
  },
  {
   "cell_type": "markdown",
   "id": "a94c970e",
   "metadata": {},
   "source": [
    "Find the busiest day"
   ]
  },
  {
   "cell_type": "code",
   "execution_count": null,
   "id": "bf4ca29a",
   "metadata": {},
   "outputs": [],
   "source": [
    "tall_df.groupby([\"__\"])[\"BicycleCount\"].mean()"
   ]
  },
  {
   "cell_type": "code",
   "execution_count": null,
   "id": "993f0885",
   "metadata": {},
   "outputs": [],
   "source": [
    "# Group the data by the site and days\n",
    "# Check the average bicycle count by site\n",
    "avg_bicycle_count_per_site = tall_df \\\n",
    "    .groupby([\"__\", \"__\"])[\"__\"] \\\n",
    "    .mean() \\\n",
    "    .reset_index()\n",
    "\n",
    "avg_bicycle_count_per_site"
   ]
  },
  {
   "cell_type": "markdown",
   "id": "f2da15b6",
   "metadata": {},
   "source": [
    "## Find the top 10 busiest site"
   ]
  },
  {
   "cell_type": "code",
   "execution_count": null,
   "id": "396aed9f",
   "metadata": {},
   "outputs": [],
   "source": [
    "# Find the top 10 site with the most total bicycle Count over the entire week\n",
    "# Replace the \"__\" with a proper variable name\n",
    "\n",
    "avg_bicycle_count_per_site \\\n",
    "    .groupby(\"__\")[\"__\"] \\\n",
    "    .sum() \\\n",
    "    .sort_values(ascending=False) \\\n",
    "    .head(3) #change this value"
   ]
  },
  {
   "cell_type": "markdown",
   "id": "ca4bfe06",
   "metadata": {},
   "source": [
    "## Plot the average daily bicycle count in Queensland"
   ]
  },
  {
   "cell_type": "code",
   "execution_count": null,
   "id": "11733080",
   "metadata": {},
   "outputs": [],
   "source": [
    "daily_df = tall_df \\\n",
    "    .groupby([\"__\"])[\"__\"] \\\n",
    "    .mean() \\\n",
    "    .reset_index()\n",
    "daily_df"
   ]
  },
  {
   "cell_type": "code",
   "execution_count": null,
   "id": "51bc368a",
   "metadata": {},
   "outputs": [],
   "source": [
    "daily_df.plot(\"__\", \"__\", kind=\"bar\")"
   ]
  },
  {
   "cell_type": "code",
   "execution_count": null,
   "id": "79fea5dd",
   "metadata": {},
   "outputs": [],
   "source": []
  }
 ],
 "metadata": {
  "kernelspec": {
   "display_name": "Python 3",
   "language": "python",
   "name": "python3"
  },
  "language_info": {
   "codemirror_mode": {
    "name": "ipython",
    "version": 3
   },
   "file_extension": ".py",
   "mimetype": "text/x-python",
   "name": "python",
   "nbconvert_exporter": "python",
   "pygments_lexer": "ipython3",
   "version": "3.8.8"
  }
 },
 "nbformat": 4,
 "nbformat_minor": 5
}
